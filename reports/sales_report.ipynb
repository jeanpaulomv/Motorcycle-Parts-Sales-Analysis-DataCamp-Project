{
 "cells": [
  {
   "cell_type": "markdown",
   "id": "d7a91962",
   "metadata": {},
   "source": [
    "# Reporte de Ventas"
   ]
  },
  {
   "cell_type": "markdown",
   "id": "b3b94c0c",
   "metadata": {},
   "source": [
    "Este notebook contiene un análisis de las ventas."
   ]
  },
  {
   "cell_type": "markdown",
   "id": "01095af6",
   "metadata": {},
   "source": [
    "## Dashboard Principal"
   ]
  },
  {
   "cell_type": "markdown",
   "id": "7039919e",
   "metadata": {},
   "source": [
    "A continuacion se muestra el dashboard principal con todas las visualizaciones clave."
   ]
  },
  {
   "cell_type": "markdown",
   "id": "e0930093",
   "metadata": {},
   "source": [
    "![Dashboard Principal](../images/Dashboard.png)"
   ]
  },
  {
   "cell_type": "markdown",
   "id": "65a8ed59",
   "metadata": {},
   "source": [
    "## Net Revenue"
   ]
  },
  {
   "cell_type": "code",
   "execution_count": null,
   "id": "1376e78b",
   "metadata": {},
   "outputs": [],
   "source": [
    "import pandas as pd\n",
    "\n",
    "df_net_revenue = pd.DataFrame([{'product_line': 'Braking system', 'month': 'June', 'warehouse': 'Central', 'net_revenue': 6261.14}, {'product_line': 'Braking system', 'month': 'June', 'warehouse': 'North', 'net_revenue': 3219.45}, {'product_line': 'Braking system', 'month': 'June', 'warehouse': 'West', 'net_revenue': 1987.64}, {'product_line': 'Braking system', 'month': 'July', 'warehouse': 'Central', 'net_revenue': 6841.33}, {'product_line': 'Braking system', 'month': 'July', 'warehouse': 'West', 'net_revenue': 4248.18}, {'product_line': 'Braking system', 'month': 'July', 'warehouse': 'North', 'net_revenue': 4199.59}, {'product_line': 'Braking system', 'month': 'August', 'warehouse': 'Central', 'net_revenue': 4687.49}, {'product_line': 'Braking system', 'month': 'August', 'warehouse': 'West', 'net_revenue': 3732.72}, {'product_line': 'Braking system', 'month': 'August', 'warehouse': 'North', 'net_revenue': 3167.56}, {'product_line': 'Electrical system', 'month': 'June', 'warehouse': 'Central', 'net_revenue': 6374.91}])\n",
    "df_net_revenue"
   ]
  },
  {
   "cell_type": "markdown",
   "id": "fc3b29f6",
   "metadata": {},
   "source": [
    "![Net Revenue](../images/../images/net_sales_by_product_line_month.png)"
   ]
  },
  {
   "cell_type": "markdown",
   "id": "47553e24",
   "metadata": {},
   "source": [
    "## Seasonality"
   ]
  },
  {
   "cell_type": "code",
   "execution_count": null,
   "id": "1304ee61",
   "metadata": {},
   "outputs": [],
   "source": [
    "import pandas as pd\n",
    "\n",
    "df_seasonality = pd.DataFrame([{'month': 'June', 'product_line': 'Suspension & traction', 'total_sales': 26084.77}, {'month': 'June', 'product_line': 'Frame & body', 'total_sales': 24878.7}, {'month': 'June', 'product_line': 'Electrical system', 'total_sales': 12010.7}, {'month': 'June', 'product_line': 'Engine', 'total_sales': 11701.44}, {'month': 'June', 'product_line': 'Braking system', 'total_sales': 11469.92}, {'month': 'June', 'product_line': 'Miscellaneous', 'total_sales': 9174.5}, {'month': 'July', 'product_line': 'Suspension & traction', 'total_sales': 23512.93}, {'month': 'July', 'product_line': 'Frame & body', 'total_sales': 18468.81}, {'month': 'July', 'product_line': 'Braking system', 'total_sales': 15290.89}, {'month': 'July', 'product_line': 'Electrical system', 'total_sales': 14967.0}, {'month': 'July', 'product_line': 'Miscellaneous', 'total_sales': 10963.32}, {'month': 'July', 'product_line': 'Engine', 'total_sales': 10344.96}, {'month': 'August', 'product_line': 'Frame & body', 'total_sales': 25677.22}, {'month': 'August', 'product_line': 'Suspension & traction', 'total_sales': 23416.51}, {'month': 'August', 'product_line': 'Electrical system', 'total_sales': 16635.01}, {'month': 'August', 'product_line': 'Engine', 'total_sales': 15898.98}, {'month': 'August', 'product_line': 'Braking system', 'total_sales': 11589.34}, {'month': 'August', 'product_line': 'Miscellaneous', 'total_sales': 7028.0}])\n",
    "df_seasonality"
   ]
  },
  {
   "cell_type": "markdown",
   "id": "e6317ee3",
   "metadata": {},
   "source": [
    "![Seasonality](../images/../images/seasonality_purchasing_patterns.png)"
   ]
  },
  {
   "cell_type": "markdown",
   "id": "e63fd88c",
   "metadata": {},
   "source": [
    "## Payment Methods"
   ]
  },
  {
   "cell_type": "code",
   "execution_count": null,
   "id": "c75453f0",
   "metadata": {},
   "outputs": [],
   "source": [
    "import pandas as pd\n",
    "\n",
    "df_payment_methods = pd.DataFrame([{'payment': 'Cash', 'total_revenue': 19199.1, 'total_fees': 0.0}, {'payment': 'Transfer', 'total_revenue': 159642.33, 'total_fees': 2.25}, {'payment': 'Credit card', 'total_revenue': 110271.57, 'total_fees': 19.77}])\n",
    "df_payment_methods"
   ]
  },
  {
   "cell_type": "markdown",
   "id": "1daf16b0",
   "metadata": {},
   "source": [
    "![Payment Methods](../images/../images/revenue_by_payment_method.png)"
   ]
  },
  {
   "cell_type": "markdown",
   "id": "531a34ab",
   "metadata": {},
   "source": [
    "## Warehouse Performance"
   ]
  },
  {
   "cell_type": "code",
   "execution_count": null,
   "id": "65c4c40f",
   "metadata": {},
   "outputs": [],
   "source": [
    "import pandas as pd\n",
    "\n",
    "df_warehouse_performance = pd.DataFrame([{'warehouse': 'Central', 'products_quantity': 4527.0, 'avg_products': 9.43, 'net_revenue': 141972.13}, {'warehouse': 'North', 'products_quantity': 3254.0, 'avg_products': 9.57, 'net_revenue': 100196.26}, {'warehouse': 'West', 'products_quantity': 1614.0, 'avg_products': 8.97, 'net_revenue': 46922.59}])\n",
    "df_warehouse_performance"
   ]
  },
  {
   "cell_type": "markdown",
   "id": "c2783b7a",
   "metadata": {},
   "source": [
    "![Warehouse Performance](../images/../images/margin_performance.png)"
   ]
  },
  {
   "cell_type": "markdown",
   "id": "8e3c88db",
   "metadata": {},
   "source": [
    "## Product Line Performance"
   ]
  },
  {
   "cell_type": "code",
   "execution_count": null,
   "id": "128ab4d0",
   "metadata": {},
   "outputs": [],
   "source": [
    "import pandas as pd\n",
    "\n",
    "df_product_line_performance = pd.DataFrame([{'product_line': 'Suspension & traction', 'products_quantity': 2145.0, 'revenue_per_unit': 34.04, 'avg_total': 320.24, 'net_revenue': 73009.11}, {'product_line': 'Frame & body', 'products_quantity': 1619.0, 'revenue_per_unit': 42.63, 'avg_total': 415.81, 'net_revenue': 69021.08}, {'product_line': 'Electrical system', 'products_quantity': 1698.0, 'revenue_per_unit': 25.68, 'avg_total': 225.97, 'net_revenue': 43608.4}, {'product_line': 'Braking system', 'products_quantity': 2130.0, 'revenue_per_unit': 18.0, 'avg_total': 166.74, 'net_revenue': 38345.1}, {'product_line': 'Engine', 'products_quantity': 627.0, 'revenue_per_unit': 60.52, 'avg_total': 622.06, 'net_revenue': 37943.99}, {'product_line': 'Miscellaneous', 'products_quantity': 1176.0, 'revenue_per_unit': 23.1, 'avg_total': 222.67, 'net_revenue': 27163.3}])\n",
    "df_product_line_performance"
   ]
  },
  {
   "cell_type": "markdown",
   "id": "3de02f99",
   "metadata": {},
   "source": [
    "![Product Line Performance](../images/../images/product_lines.png)"
   ]
  }
 ],
 "metadata": {},
 "nbformat": 4,
 "nbformat_minor": 5
}
