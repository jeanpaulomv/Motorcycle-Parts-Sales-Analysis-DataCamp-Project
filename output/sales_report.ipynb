{
 "cells": [
  {
   "cell_type": "markdown",
   "id": "98db8c8a",
   "metadata": {},
   "source": [
    "# Reporte de Ventas"
   ]
  },
  {
   "cell_type": "markdown",
   "id": "6fee89ad",
   "metadata": {},
   "source": [
    "Este notebook contiene un análisis de las ventas."
   ]
  },
  {
   "cell_type": "markdown",
   "id": "414acedf",
   "metadata": {},
   "source": [
    "## Net Revenue"
   ]
  },
  {
   "cell_type": "code",
   "execution_count": null,
   "id": "49362552",
   "metadata": {},
   "outputs": [],
   "source": [
    "import pandas as pd\n",
    "\n",
    "df_net_revenue = pd.DataFrame([{'product_line': 'Braking system', 'month': 'June', 'warehouse': 'Central', 'net_revenue': 6261.14}, {'product_line': 'Braking system', 'month': 'June', 'warehouse': 'North', 'net_revenue': 3219.45}, {'product_line': 'Braking system', 'month': 'June', 'warehouse': 'West', 'net_revenue': 1987.64}, {'product_line': 'Braking system', 'month': 'July', 'warehouse': 'Central', 'net_revenue': 6841.33}, {'product_line': 'Braking system', 'month': 'July', 'warehouse': 'West', 'net_revenue': 4248.18}, {'product_line': 'Braking system', 'month': 'July', 'warehouse': 'North', 'net_revenue': 4199.59}, {'product_line': 'Braking system', 'month': 'August', 'warehouse': 'Central', 'net_revenue': 4687.49}, {'product_line': 'Braking system', 'month': 'August', 'warehouse': 'West', 'net_revenue': 3732.72}, {'product_line': 'Braking system', 'month': 'August', 'warehouse': 'North', 'net_revenue': 3167.56}, {'product_line': 'Electrical system', 'month': 'June', 'warehouse': 'Central', 'net_revenue': 6374.91}, {'product_line': 'Electrical system', 'month': 'June', 'warehouse': 'North', 'net_revenue': 4137.48}, {'product_line': 'Electrical system', 'month': 'June', 'warehouse': 'West', 'net_revenue': 1496.94}, {'product_line': 'Electrical system', 'month': 'July', 'warehouse': 'Central', 'net_revenue': 9606.9}, {'product_line': 'Electrical system', 'month': 'July', 'warehouse': 'North', 'net_revenue': 3264.21}, {'product_line': 'Electrical system', 'month': 'July', 'warehouse': 'West', 'net_revenue': 2094.43}, {'product_line': 'Electrical system', 'month': 'August', 'warehouse': 'North', 'net_revenue': 7844.12}, {'product_line': 'Electrical system', 'month': 'August', 'warehouse': 'Central', 'net_revenue': 6010.78}, {'product_line': 'Electrical system', 'month': 'August', 'warehouse': 'West', 'net_revenue': 2778.63}, {'product_line': 'Engine', 'month': 'June', 'warehouse': 'Central', 'net_revenue': 9255.7}, {'product_line': 'Engine', 'month': 'June', 'warehouse': 'West', 'net_revenue': 1286.92}, {'product_line': 'Engine', 'month': 'June', 'warehouse': 'North', 'net_revenue': 1158.36}, {'product_line': 'Engine', 'month': 'July', 'warehouse': 'Central', 'net_revenue': 5480.57}, {'product_line': 'Engine', 'month': 'July', 'warehouse': 'North', 'net_revenue': 2705.45}, {'product_line': 'Engine', 'month': 'July', 'warehouse': 'West', 'net_revenue': 2158.35}, {'product_line': 'Engine', 'month': 'August', 'warehouse': 'Central', 'net_revenue': 12526.1}, {'product_line': 'Engine', 'month': 'August', 'warehouse': 'North', 'net_revenue': 3372.54}, {'product_line': 'Frame & body', 'month': 'June', 'warehouse': 'Central', 'net_revenue': 10122.08}, {'product_line': 'Frame & body', 'month': 'June', 'warehouse': 'North', 'net_revenue': 8682.18}, {'product_line': 'Frame & body', 'month': 'June', 'warehouse': 'West', 'net_revenue': 6073.01}, {'product_line': 'Frame & body', 'month': 'July', 'warehouse': 'North', 'net_revenue': 8092.54}, {'product_line': 'Frame & body', 'month': 'July', 'warehouse': 'Central', 'net_revenue': 7658.81}, {'product_line': 'Frame & body', 'month': 'July', 'warehouse': 'West', 'net_revenue': 2716.26}, {'product_line': 'Frame & body', 'month': 'August', 'warehouse': 'Central', 'net_revenue': 12257.86}, {'product_line': 'Frame & body', 'month': 'August', 'warehouse': 'North', 'net_revenue': 11621.93}, {'product_line': 'Frame & body', 'month': 'August', 'warehouse': 'West', 'net_revenue': 1796.41}, {'product_line': 'Miscellaneous', 'month': 'June', 'warehouse': 'Central', 'net_revenue': 3801.22}, {'product_line': 'Miscellaneous', 'month': 'June', 'warehouse': 'West', 'net_revenue': 3321.91}, {'product_line': 'Miscellaneous', 'month': 'June', 'warehouse': 'North', 'net_revenue': 2050.43}, {'product_line': 'Miscellaneous', 'month': 'July', 'warehouse': 'Central', 'net_revenue': 5262.84}, {'product_line': 'Miscellaneous', 'month': 'July', 'warehouse': 'North', 'net_revenue': 3947.55}, {'product_line': 'Miscellaneous', 'month': 'July', 'warehouse': 'West', 'net_revenue': 1751.98}, {'product_line': 'Miscellaneous', 'month': 'August', 'warehouse': 'Central', 'net_revenue': 3155.63}, {'product_line': 'Miscellaneous', 'month': 'August', 'warehouse': 'North', 'net_revenue': 2619.89}, {'product_line': 'Miscellaneous', 'month': 'August', 'warehouse': 'West', 'net_revenue': 1251.85}, {'product_line': 'Suspension & traction', 'month': 'June', 'warehouse': 'North', 'net_revenue': 14067.99}, {'product_line': 'Suspension & traction', 'month': 'June', 'warehouse': 'Central', 'net_revenue': 8310.23}, {'product_line': 'Suspension & traction', 'month': 'June', 'warehouse': 'West', 'net_revenue': 3704.81}, {'product_line': 'Suspension & traction', 'month': 'July', 'warehouse': 'Central', 'net_revenue': 13415.29}, {'product_line': 'Suspension & traction', 'month': 'July', 'warehouse': 'North', 'net_revenue': 6911.29}, {'product_line': 'Suspension & traction', 'month': 'July', 'warehouse': 'West', 'net_revenue': 3184.77}, {'product_line': 'Suspension & traction', 'month': 'August', 'warehouse': 'Central', 'net_revenue': 10943.25}, {'product_line': 'Suspension & traction', 'month': 'August', 'warehouse': 'North', 'net_revenue': 9133.7}, {'product_line': 'Suspension & traction', 'month': 'August', 'warehouse': 'West', 'net_revenue': 3337.78}])\n",
    "df_net_revenue"
   ]
  },
  {
   "cell_type": "markdown",
   "id": "e6d070a8",
   "metadata": {},
   "source": [
    "## Seasonality"
   ]
  },
  {
   "cell_type": "code",
   "execution_count": null,
   "id": "757d2610",
   "metadata": {},
   "outputs": [],
   "source": [
    "import pandas as pd\n",
    "\n",
    "df_seasonality = pd.DataFrame([{'month': 'June', 'product_line': 'Suspension & traction', 'total_sales': 26084.77}, {'month': 'June', 'product_line': 'Frame & body', 'total_sales': 24878.7}, {'month': 'June', 'product_line': 'Electrical system', 'total_sales': 12010.7}, {'month': 'June', 'product_line': 'Engine', 'total_sales': 11701.44}, {'month': 'June', 'product_line': 'Braking system', 'total_sales': 11469.92}, {'month': 'June', 'product_line': 'Miscellaneous', 'total_sales': 9174.5}, {'month': 'July', 'product_line': 'Suspension & traction', 'total_sales': 23512.93}, {'month': 'July', 'product_line': 'Frame & body', 'total_sales': 18468.81}, {'month': 'July', 'product_line': 'Braking system', 'total_sales': 15290.89}, {'month': 'July', 'product_line': 'Electrical system', 'total_sales': 14967.0}, {'month': 'July', 'product_line': 'Miscellaneous', 'total_sales': 10963.32}, {'month': 'July', 'product_line': 'Engine', 'total_sales': 10344.96}, {'month': 'August', 'product_line': 'Frame & body', 'total_sales': 25677.22}, {'month': 'August', 'product_line': 'Suspension & traction', 'total_sales': 23416.51}, {'month': 'August', 'product_line': 'Electrical system', 'total_sales': 16635.01}, {'month': 'August', 'product_line': 'Engine', 'total_sales': 15898.98}, {'month': 'August', 'product_line': 'Braking system', 'total_sales': 11589.34}, {'month': 'August', 'product_line': 'Miscellaneous', 'total_sales': 7028.0}])\n",
    "df_seasonality"
   ]
  },
  {
   "cell_type": "markdown",
   "id": "15d6caf8",
   "metadata": {},
   "source": [
    "## Payment Methods"
   ]
  },
  {
   "cell_type": "code",
   "execution_count": null,
   "id": "f4cf5125",
   "metadata": {},
   "outputs": [],
   "source": [
    "import pandas as pd\n",
    "\n",
    "df_payment_methods = pd.DataFrame([{'payment': 'Cash', 'total_revenue': 19199.1, 'total_fees': 0.0}, {'payment': 'Transfer', 'total_revenue': 159642.33, 'total_fees': 2.25}, {'payment': 'Credit card', 'total_revenue': 110271.57, 'total_fees': 19.77}])\n",
    "df_payment_methods"
   ]
  },
  {
   "cell_type": "markdown",
   "id": "a8ebaba0",
   "metadata": {},
   "source": [
    "## Warehouse Performance"
   ]
  },
  {
   "cell_type": "code",
   "execution_count": null,
   "id": "ee6c5c47",
   "metadata": {},
   "outputs": [],
   "source": [
    "import pandas as pd\n",
    "\n",
    "df_warehouse_performance = pd.DataFrame([{'warehouse': 'Central', 'products_quantity': 4527.0, 'avg_products': 9.43, 'net_revenue': 141972.13}, {'warehouse': 'North', 'products_quantity': 3254.0, 'avg_products': 9.57, 'net_revenue': 100196.26}, {'warehouse': 'West', 'products_quantity': 1614.0, 'avg_products': 8.97, 'net_revenue': 46922.59}])\n",
    "df_warehouse_performance"
   ]
  },
  {
   "cell_type": "markdown",
   "id": "8ab403a5",
   "metadata": {},
   "source": [
    "## Product Line Performance"
   ]
  },
  {
   "cell_type": "code",
   "execution_count": null,
   "id": "7a2a7559",
   "metadata": {},
   "outputs": [],
   "source": [
    "import pandas as pd\n",
    "\n",
    "df_product_line_performance = pd.DataFrame([{'product_line': 'Suspension & traction', 'products_quantity': 2145.0, 'revenue_per_unit': 34.04, 'avg_total': 320.24, 'net_revenue': 73009.11}, {'product_line': 'Frame & body', 'products_quantity': 1619.0, 'revenue_per_unit': 42.63, 'avg_total': 415.81, 'net_revenue': 69021.08}, {'product_line': 'Electrical system', 'products_quantity': 1698.0, 'revenue_per_unit': 25.68, 'avg_total': 225.97, 'net_revenue': 43608.4}, {'product_line': 'Braking system', 'products_quantity': 2130.0, 'revenue_per_unit': 18.0, 'avg_total': 166.74, 'net_revenue': 38345.1}, {'product_line': 'Engine', 'products_quantity': 627.0, 'revenue_per_unit': 60.52, 'avg_total': 622.06, 'net_revenue': 37943.99}, {'product_line': 'Miscellaneous', 'products_quantity': 1176.0, 'revenue_per_unit': 23.1, 'avg_total': 222.67, 'net_revenue': 27163.3}])\n",
    "df_product_line_performance"
   ]
  }
 ],
 "metadata": {},
 "nbformat": 4,
 "nbformat_minor": 5
}
